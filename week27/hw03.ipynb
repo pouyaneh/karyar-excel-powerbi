{
 "cells": [
  {
   "cell_type": "code",
   "execution_count": 1,
   "id": "2e2f410c",
   "metadata": {},
   "outputs": [
    {
     "data": {
      "text/plain": [
       "'decision_tree_investment.pdf'"
      ]
     },
     "execution_count": 1,
     "metadata": {},
     "output_type": "execute_result"
    }
   ],
   "source": [
    "from graphviz import Digraph\n",
    "\n",
    "# Create a Digraph object\n",
    "dot = Digraph(comment='Decision Tree: Investment in Startup')\n",
    "dot.attr(size='10,10')\n",
    "\n",
    "# Root node (Start)\n",
    "dot.node('Start', 'Start\\n(Invest $20,000)')\n",
    "\n",
    "# R&D stage\n",
    "dot.node('R&D_Success', 'R&D Success (p=0.4)')\n",
    "dot.node('R&D_Fail', 'R&D Fail (p=0.6)\\nReturn: $5,000\\nNet: -$15,000')\n",
    "\n",
    "# Market Test stage\n",
    "dot.node('Market_Success', 'Market Success (p=0.5)')\n",
    "dot.node('Market_Fail', 'Market Fail (p=0.5)\\nReturn: $5,000\\nNet: -$10,000')\n",
    "\n",
    "# Production stage\n",
    "dot.node('Production_Success', 'Production Success (p=0.6)\\nReturn: $100,000\\nCost: $30,000\\nNet: +$30,000')\n",
    "dot.node('Production_Fail', 'Production Fail (p=0.4)\\nReturn: $0\\nNet: -$30,000')\n",
    "\n",
    "# Edges for R&D\n",
    "dot.edge('Start', 'R&D_Success', label='Success (40%)')\n",
    "dot.edge('Start', 'R&D_Fail', label='Fail (60%)')\n",
    "\n",
    "# Edges for Market Test\n",
    "dot.edge('R&D_Success', 'Market_Success', label='Success (50%)')\n",
    "dot.edge('R&D_Success', 'Market_Fail', label='Fail (50%)')\n",
    "\n",
    "# Edges for Production\n",
    "dot.edge('Market_Success', 'Production_Success', label='Success (60%)')\n",
    "dot.edge('Market_Success', 'Production_Fail', label='Fail (40%)')\n",
    "\n",
    "# Render to file (optional)\n",
    "dot.render('decision_tree_investment', format='png', cleanup=True)\n",
    "\n",
    "# Show the tree\n",
    "dot.view()"
   ]
  }
 ],
 "metadata": {
  "kernelspec": {
   "display_name": "octopus310",
   "language": "python",
   "name": "python3"
  },
  "language_info": {
   "codemirror_mode": {
    "name": "ipython",
    "version": 3
   },
   "file_extension": ".py",
   "mimetype": "text/x-python",
   "name": "python",
   "nbconvert_exporter": "python",
   "pygments_lexer": "ipython3",
   "version": "3.10.16"
  }
 },
 "nbformat": 4,
 "nbformat_minor": 5
}
