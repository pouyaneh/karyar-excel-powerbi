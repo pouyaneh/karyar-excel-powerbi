{
 "cells": [
  {
   "cell_type": "code",
   "execution_count": 1,
   "id": "951c68aa",
   "metadata": {},
   "outputs": [],
   "source": [
    "import numpy as np"
   ]
  },
  {
   "cell_type": "code",
   "execution_count": 2,
   "id": "4dfe1739",
   "metadata": {},
   "outputs": [],
   "source": [
    "# Original data (in thousands of dollars)\n",
    "incomes = np.array([28, 30, 32, 29, 31, 27, 33, 26, 30, 28, 35, 29, 31, 34, 500])"
   ]
  },
  {
   "cell_type": "code",
   "execution_count": 3,
   "id": "6ad86c13",
   "metadata": {},
   "outputs": [],
   "source": [
    "# Part (a): Mean and Median\n",
    "mean_original = np.mean(incomes)\n",
    "median_original = np.median(incomes)"
   ]
  },
  {
   "cell_type": "code",
   "execution_count": 4,
   "id": "e135ace4",
   "metadata": {},
   "outputs": [],
   "source": [
    "# Part (b): Standard Deviation\n",
    "std_original = np.std(incomes)"
   ]
  },
  {
   "cell_type": "code",
   "execution_count": 5,
   "id": "b366b970",
   "metadata": {},
   "outputs": [],
   "source": [
    "# Part (b): Standard Deviation\n",
    "std_original = np.std(incomes)"
   ]
  },
  {
   "cell_type": "code",
   "execution_count": 7,
   "id": "064a8bf3",
   "metadata": {},
   "outputs": [],
   "source": [
    "# Part (c): Remove the outlier (assumed to be 500)\n",
    "incomes_cleaned = incomes[incomes < 100]  # keep values below 100 (remove 500)"
   ]
  },
  {
   "cell_type": "markdown",
   "id": "01a9d96c",
   "metadata": {},
   "source": [
    "```python\n",
    "\n",
    "# Calculate Q1 and Q3\n",
    "Q1 = np.percentile(incomes, 25)\n",
    "Q3 = np.percentile(incomes, 75)\n",
    "IQR = Q3 - Q1\n",
    "\n",
    "# Define lower and upper bounds\n",
    "lower_bound = Q1 - 1.5 * IQR\n",
    "upper_bound = Q3 + 1.5 * IQR\n",
    "\n",
    "# Filter data to remove outliers\n",
    "incomes_cleaned = incomes[(incomes >= lower_bound) & (incomes <= upper_bound)]\n",
    "\n",
    "```"
   ]
  },
  {
   "cell_type": "markdown",
   "id": "2effcced",
   "metadata": {},
   "source": [
    "میتوان از روش های متفاوتی برای حذف داده های پرت استفاده کرد مثل روش بالا ولی به دلیل اینکه تعداد داده ها کم بود به صورت دستی و با یک شرط ساده این مقادیر را حذف کردم"
   ]
  },
  {
   "cell_type": "code",
   "execution_count": 8,
   "id": "66f8dae5",
   "metadata": {},
   "outputs": [],
   "source": [
    "mean_cleaned = np.mean(incomes_cleaned)\n",
    "median_cleaned = np.median(incomes_cleaned)\n",
    "std_cleaned = np.std(incomes_cleaned)"
   ]
  },
  {
   "cell_type": "code",
   "execution_count": 9,
   "id": "a2966e61",
   "metadata": {},
   "outputs": [
    {
     "name": "stdout",
     "output_type": "stream",
     "text": [
      "Original Data:\n",
      "Mean: 61.53333333333333\n",
      "Median: 30.0\n",
      "Standard Deviation: 117.21084515616387\n",
      "\n",
      "After Removing Outlier:\n",
      "Mean: 30.214285714285715\n",
      "Median: 30.0\n",
      "Standard Deviation: 2.5404884633969633\n"
     ]
    }
   ],
   "source": [
    "# Print results\n",
    "print(\"Original Data:\")\n",
    "print(\"Mean:\", mean_original)\n",
    "print(\"Median:\", median_original)\n",
    "print(\"Standard Deviation:\", std_original)\n",
    "\n",
    "print(\"\\nAfter Removing Outlier:\")\n",
    "print(\"Mean:\", mean_cleaned)\n",
    "print(\"Median:\", median_cleaned)\n",
    "print(\"Standard Deviation:\", std_cleaned)"
   ]
  }
 ],
 "metadata": {
  "kernelspec": {
   "display_name": "octopus310",
   "language": "python",
   "name": "python3"
  },
  "language_info": {
   "codemirror_mode": {
    "name": "ipython",
    "version": 3
   },
   "file_extension": ".py",
   "mimetype": "text/x-python",
   "name": "python",
   "nbconvert_exporter": "python",
   "pygments_lexer": "ipython3",
   "version": "3.10.16"
  }
 },
 "nbformat": 4,
 "nbformat_minor": 5
}
